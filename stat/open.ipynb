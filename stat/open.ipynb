{
 "cells": [
  {
   "cell_type": "code",
   "execution_count": null,
   "id": "0e4fc7c4",
   "metadata": {},
   "outputs": [],
   "source": [
    "import pandas as pd\n",
    "\n",
    "from common import display_all_stats"
   ]
  },
  {
   "cell_type": "code",
   "execution_count": null,
   "id": "6b4998ea",
   "metadata": {},
   "outputs": [],
   "source": [
    "pd.set_option(\"display.float_format\", \"{:.2f}\".format)\n",
    "pd.set_option(\"display.max_columns\", None)\n",
    "pd.set_option(\"display.max_colwidth\", None)\n",
    "pd.set_option(\"display.max_rows\", None)"
   ]
  },
  {
   "cell_type": "code",
   "execution_count": null,
   "id": "a234f21a",
   "metadata": {},
   "outputs": [],
   "source": [
    "suffix = \"\"\n",
    "model_group: str = \"open\""
   ]
  },
  {
   "cell_type": "code",
   "execution_count": null,
   "id": "53627ac0",
   "metadata": {},
   "outputs": [],
   "source": [
    "display_all_stats(f\"baseline{suffix}\", model_group)"
   ]
  },
  {
   "cell_type": "code",
   "execution_count": null,
   "id": "5be15a39",
   "metadata": {},
   "outputs": [],
   "source": [
    "display_all_stats(f\"hardcore{suffix}\", model_group)"
   ]
  },
  {
   "cell_type": "code",
   "execution_count": null,
   "id": "28c8ff9e",
   "metadata": {},
   "outputs": [],
   "source": [
    "display_all_stats(f\"unsolvable{suffix}\", model_group)"
   ]
  }
 ],
 "metadata": {
  "kernelspec": {
   "display_name": "hardcore-logic",
   "language": "python",
   "name": "python3"
  },
  "language_info": {
   "codemirror_mode": {
    "name": "ipython",
    "version": 3
   },
   "file_extension": ".py",
   "mimetype": "text/x-python",
   "name": "python",
   "nbconvert_exporter": "python",
   "pygments_lexer": "ipython3",
   "version": "3.13.3"
  }
 },
 "nbformat": 4,
 "nbformat_minor": 5
}
